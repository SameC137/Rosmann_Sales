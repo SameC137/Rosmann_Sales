{
 "cells": [
  {
   "cell_type": "code",
   "execution_count": 1,
   "source": [
    "import pandas as pd\r\n",
    "import numpy as np\r\n",
    "\r\n",
    "from sklearn.preprocessing import LabelEncoder\r\n",
    "\r\n",
    "from sklearn.preprocessing import OrdinalEncoder\r\n",
    "from sklearn.preprocessing import StandardScaler\r\n",
    "\r\n",
    "import matplotlib.pyplot as plt\r\n",
    "\r\n",
    "import seaborn as sns"
   ],
   "outputs": [],
   "metadata": {}
  },
  {
   "cell_type": "markdown",
   "source": [
    "# Proecessing and Modeling Rossmann Sales Data"
   ],
   "metadata": {}
  },
  {
   "cell_type": "code",
   "execution_count": 2,
   "source": [
    "import warnings\r\n",
    "warnings.filterwarnings('ignore')"
   ],
   "outputs": [],
   "metadata": {}
  },
  {
   "cell_type": "markdown",
   "source": [
    "Id - an Id that represents a (Store, Date) duple within the test set \\\r\n",
    "Store - a unique Id for each store\\\r\n",
    "Sales - the turnover for any given day (this is what you are predicting)\\\r\n",
    "Customers - the number of customers on a given day\\\r\n",
    "Open - an indicator for whether the store was open: 0 = closed, 1 = open\\\r\n",
    "StateHoliday - indicates a state holiday. Normally all stores, with few exceptions, are closed on state holidays. Note that all schools are closed on public holidays and weekends. a = public holiday, b = Easter holiday, c = Christmas, 0 = None\\\r\n",
    "SchoolHoliday - indicates if the (Store, Date) was affected by the closure of public schools\\\r\n",
    "StoreType - differentiates between 4 different store models: a, b, c, d\\\r\n",
    "Assortment - describes an assortment level: a = basic, b = extra, c = extended\\\r\n",
    "CompetitionDistance - distance in meters to the nearest competitor store\\\r\n",
    "CompetitionOpenSince[Month/Year] - gives the approximate year and month of the time the nearest competitor was opened\\\r\n",
    "Promo - indicates whether a store is running a promo on that day\\\r\n",
    "Promo2 - Promo2 is a continuing and consecutive promotion for some stores: 0 = store is not participating, 1 = store is participating\\\r\n",
    "Promo2Since[Year/Week] - describes the year and calendar week when the store started participating in Promo2\\\r\n",
    "PromoInterval - describes the consecutive intervals Promo2 is started, naming the months the promotion is started anew. E.g. \"Feb,May,Aug,Nov\" means each round starts in February, May, August, November of any given year for that store \\"
   ],
   "metadata": {}
  },
  {
   "cell_type": "markdown",
   "source": [
    "Read Files"
   ],
   "metadata": {}
  },
  {
   "cell_type": "code",
   "execution_count": 4,
   "source": [
    "train = pd.read_csv('../data/train_store_combined.csv')\r\n",
    "test = pd.read_csv('../data/test_store_combined.csv')"
   ],
   "outputs": [],
   "metadata": {}
  },
  {
   "cell_type": "markdown",
   "source": [
    "## Feature Engineering"
   ],
   "metadata": {}
  },
  {
   "cell_type": "markdown",
   "source": [
    "Create a is weekend feature. This also covers the is weekday since they have a perfectly negative correlations"
   ],
   "metadata": {}
  },
  {
   "cell_type": "code",
   "execution_count": 5,
   "source": [
    "def isWeekend(x):\r\n",
    "    if x<6:\r\n",
    "        return 0\r\n",
    "    else: \r\n",
    "        return 1\r\n",
    "train[\"weekend\"]= train[\"DayOfWeek\"].apply(isWeekend )"
   ],
   "outputs": [],
   "metadata": {}
  },
  {
   "cell_type": "markdown",
   "source": [
    "This creates the feature if the day is at the start mid or end of the month"
   ],
   "metadata": {}
  },
  {
   "cell_type": "code",
   "execution_count": 6,
   "source": [
    "def startMidEndMonth(x):\r\n",
    "    if x<10:\r\n",
    "        return 0\r\n",
    "    elif x<20:\r\n",
    "        return 1\r\n",
    "    else:\r\n",
    "        return 2"
   ],
   "outputs": [],
   "metadata": {}
  },
  {
   "cell_type": "code",
   "execution_count": 7,
   "source": [
    "train[\"MonthState\"]=train[\"Day\"].apply(startMidEndMonth)"
   ],
   "outputs": [],
   "metadata": {}
  },
  {
   "cell_type": "code",
   "execution_count": 91,
   "source": [
    "import bisect\r\n",
    "train[\"Date\"]=pd.to_datetime(train[\"Date\"])\r\n",
    "dates=np.array(train[train[\"StateHoliday\"]!=\"0\"][\"Date\"].unique())\r\n",
    "dates=np.sort(dates)\r\n",
    "a=train[\"Date\"].iloc[119]\r\n",
    "\r\n",
    "index = bisect.bisect(dates, a)\r\n",
    "print(index,dates[index-1],dates[index])"
   ],
   "outputs": [
    {
     "output_type": "stream",
     "name": "stdout",
     "text": [
      "32 2015-04-03T00:00:00.000000000 2015-04-06T00:00:00.000000000\n"
     ]
    }
   ],
   "metadata": {}
  },
  {
   "cell_type": "markdown",
   "source": [
    "This is to create a days to and after a holiday with a list of holidays"
   ],
   "metadata": {}
  },
  {
   "cell_type": "code",
   "execution_count": 9,
   "source": [
    "def datToAndAfterHoliday(df,Column,holidays):\r\n",
    "    to=[]\r\n",
    "    after=[]\r\n",
    "    for a in df[Column]:\r\n",
    "        index=bisect.bisect(holidays,a)\r\n",
    "        if len(holidays)==index:\r\n",
    "            to.append(pd.Timedelta(0, unit='d') )\r\n",
    "            after.append(a - holidays[index-1])\r\n",
    "        else:\r\n",
    "            after.append(holidays[index] - a)\r\n",
    "            to.append(a -holidays[index-1])\r\n",
    "    return to,after"
   ],
   "outputs": [],
   "metadata": {}
  },
  {
   "cell_type": "code",
   "execution_count": 10,
   "source": [
    "train[\"To\"],train[\"After\"]=datToAndAfterHoliday(train,\"Date\",dates)"
   ],
   "outputs": [],
   "metadata": {}
  },
  {
   "cell_type": "markdown",
   "source": [
    "Fill the null values"
   ],
   "metadata": {}
  },
  {
   "cell_type": "code",
   "execution_count": 11,
   "source": [
    "train['Promo2SinceWeek'] = train['Promo2SinceWeek'].fillna(train['Promo2SinceWeek'].max())\r\n",
    "train['Promo2SinceYear'] = train['Promo2SinceYear'].fillna(train['Promo2SinceYear'].max())\r\n",
    "train['PromoInterval'] = train['PromoInterval'].fillna(train['PromoInterval'].mode().iloc[0])\r\n",
    "\r\n",
    "train['CompetitionDistance'] = train['CompetitionDistance'].fillna(train['CompetitionDistance'].max())\r\n",
    "train['CompetitionOpenSinceMonth'] = train['CompetitionOpenSinceMonth'].fillna(train['CompetitionOpenSinceMonth'].mode().iloc[0])\r\n",
    "train['CompetitionOpenSinceYear'] = train['CompetitionOpenSinceYear'].fillna(train['CompetitionOpenSinceYear'].mode().iloc[0])"
   ],
   "outputs": [],
   "metadata": {}
  },
  {
   "cell_type": "code",
   "execution_count": 12,
   "source": [
    "# train.to_csv(\"../data/test_store_combined.csv\",index=False)"
   ],
   "outputs": [],
   "metadata": {}
  },
  {
   "cell_type": "markdown",
   "source": [
    "The final form of our data"
   ],
   "metadata": {}
  },
  {
   "cell_type": "code",
   "execution_count": 13,
   "source": [
    "train.info()"
   ],
   "outputs": [
    {
     "output_type": "stream",
     "name": "stdout",
     "text": [
      "<class 'pandas.core.frame.DataFrame'>\n",
      "RangeIndex: 1017209 entries, 0 to 1017208\n",
      "Data columns (total 25 columns):\n",
      " #   Column                     Non-Null Count    Dtype          \n",
      "---  ------                     --------------    -----          \n",
      " 0   Store                      1017209 non-null  int64          \n",
      " 1   DayOfWeek                  1017209 non-null  int64          \n",
      " 2   Date                       1017209 non-null  datetime64[ns] \n",
      " 3   Sales                      1017209 non-null  int64          \n",
      " 4   Customers                  1017209 non-null  int64          \n",
      " 5   Open                       1017209 non-null  int64          \n",
      " 6   Promo                      1017209 non-null  int64          \n",
      " 7   StateHoliday               1017209 non-null  object         \n",
      " 8   SchoolHoliday              1017209 non-null  int64          \n",
      " 9   Year                       1017209 non-null  int64          \n",
      " 10  Month                      1017209 non-null  int64          \n",
      " 11  Day                        1017209 non-null  int64          \n",
      " 12  StoreType                  1017209 non-null  object         \n",
      " 13  Assortment                 1017209 non-null  object         \n",
      " 14  CompetitionDistance        1014567 non-null  float64        \n",
      " 15  CompetitionOpenSinceMonth  693861 non-null   float64        \n",
      " 16  CompetitionOpenSinceYear   693861 non-null   float64        \n",
      " 17  Promo2                     1017209 non-null  int64          \n",
      " 18  Promo2SinceWeek            509178 non-null   float64        \n",
      " 19  Promo2SinceYear            509178 non-null   float64        \n",
      " 20  PromoInterval              509178 non-null   object         \n",
      " 21  weekend                    1017209 non-null  int64          \n",
      " 22  MonthState                 1017209 non-null  int64          \n",
      " 23  To                         1017209 non-null  timedelta64[ns]\n",
      " 24  After                      1017209 non-null  timedelta64[ns]\n",
      "dtypes: datetime64[ns](1), float64(5), int64(13), object(4), timedelta64[ns](2)\n",
      "memory usage: 194.0+ MB\n"
     ]
    }
   ],
   "metadata": {}
  },
  {
   "cell_type": "code",
   "execution_count": 14,
   "source": [
    "# train_cleaned_ready=train.copy()"
   ],
   "outputs": [],
   "metadata": {}
  },
  {
   "cell_type": "markdown",
   "source": [
    "Manually fixing/modifying the data"
   ],
   "metadata": {}
  },
  {
   "cell_type": "code",
   "execution_count": 15,
   "source": [
    "# train_cleaned_ready[\"To\"]=pd.to_numeric(train_cleaned_ready['To'].dt.days, downcast='integer')"
   ],
   "outputs": [],
   "metadata": {}
  },
  {
   "cell_type": "code",
   "execution_count": 16,
   "source": [
    "train[\"To\"]=pd.to_numeric(train['To'].dt.days, downcast='integer')"
   ],
   "outputs": [],
   "metadata": {}
  },
  {
   "cell_type": "code",
   "execution_count": 17,
   "source": [
    "train[\"After\"]=pd.to_numeric(train['After'].dt.days, downcast='integer')"
   ],
   "outputs": [],
   "metadata": {}
  },
  {
   "cell_type": "code",
   "execution_count": 18,
   "source": [
    "# train_cleaned_ready[\"After\"]=pd.to_numeric(train_cleaned_ready['After'].dt.days, downcast='integer')"
   ],
   "outputs": [],
   "metadata": {}
  },
  {
   "cell_type": "code",
   "execution_count": 19,
   "source": [
    "# train_cleaned_ready.drop([\"Store\",\"Date\",\"Customers\"],axis=1,inplace=True)"
   ],
   "outputs": [],
   "metadata": {}
  },
  {
   "cell_type": "markdown",
   "source": [
    "Function to encode and scale our data"
   ],
   "metadata": {}
  },
  {
   "cell_type": "code",
   "execution_count": 20,
   "source": [
    "def encode_scale_features(df,columns):\r\n",
    "    lb=LabelEncoder()\r\n",
    "    norm = StandardScaler()\r\n",
    "    for i in columns:\r\n",
    "        df[i]=lb.fit_transform(df[i])   \r\n",
    "    norm_fit = norm.fit_transform(df)\r\n",
    "    out=pd.DataFrame(norm_fit,columns=df.columns)\r\n",
    "    return out"
   ],
   "outputs": [],
   "metadata": {}
  },
  {
   "cell_type": "code",
   "execution_count": 21,
   "source": [
    "# features=encode_scale_features(train_cleaned_ready,[\"StoreType\",\"StateHoliday\",\"Assortment\",\"PromoInterval\"])"
   ],
   "outputs": [],
   "metadata": {}
  },
  {
   "cell_type": "markdown",
   "source": [
    "Select our target"
   ],
   "metadata": {}
  },
  {
   "cell_type": "code",
   "execution_count": 22,
   "source": [
    "# y=features[\"Sales\"]"
   ],
   "outputs": [],
   "metadata": {}
  },
  {
   "cell_type": "markdown",
   "source": [
    "Drop our target"
   ],
   "metadata": {}
  },
  {
   "cell_type": "code",
   "execution_count": 23,
   "source": [
    "# features=features.drop(\"Sales\",axis=1,inplace=False)"
   ],
   "outputs": [],
   "metadata": {}
  },
  {
   "cell_type": "markdown",
   "source": [
    "## Modeling without pipeline"
   ],
   "metadata": {}
  },
  {
   "cell_type": "markdown",
   "source": [
    "Import our Model Class from previous project"
   ],
   "metadata": {}
  },
  {
   "cell_type": "code",
   "execution_count": 2,
   "source": [
    "\r\n",
    "\r\n",
    "import sys, os\r\n",
    "\r\n",
    "sys.path.append(os.path.abspath(os.path.join('../scripts')))\r\n",
    "from Create_modelss_modified import CreateModel\r\n",
    "\r\n"
   ],
   "outputs": [],
   "metadata": {}
  },
  {
   "cell_type": "code",
   "execution_count": 25,
   "source": [
    "from sklearn.linear_model import LinearRegression\r\n",
    "from sklearn.linear_model import LogisticRegression\r\n",
    "from sklearn.model_selection import train_test_split"
   ],
   "outputs": [],
   "metadata": {}
  },
  {
   "cell_type": "code",
   "execution_count": null,
   "source": [],
   "outputs": [],
   "metadata": {}
  },
  {
   "cell_type": "code",
   "execution_count": 26,
   "source": [
    "import mlflow\r\n",
    "import mlflow.sklearn\r\n",
    "from sklearn.metrics import mean_squared_error"
   ],
   "outputs": [],
   "metadata": {}
  },
  {
   "cell_type": "markdown",
   "source": [
    "Split our data into a train and test set"
   ],
   "metadata": {}
  },
  {
   "cell_type": "code",
   "execution_count": 27,
   "source": [
    "# X_train, X_test, y_train, y_test = train_test_split(\r\n",
    "#    features, y, test_size=0.4, random_state=1)"
   ],
   "outputs": [],
   "metadata": {}
  },
  {
   "cell_type": "markdown",
   "source": [],
   "metadata": {}
  },
  {
   "cell_type": "markdown",
   "source": [
    "Create our object"
   ],
   "metadata": {}
  },
  {
   "cell_type": "code",
   "execution_count": 29,
   "source": [
    "# linearmodel=CreateModel(X_train=X_train,X_test=X_test, y_train=y_train,y_test=y_test,data_version=\"v1\",name=\"LinearRegressionModel\",model=LinearRegression)"
   ],
   "outputs": [],
   "metadata": {}
  },
  {
   "cell_type": "markdown",
   "source": [
    "Train our baseline model"
   ],
   "metadata": {}
  },
  {
   "cell_type": "code",
   "execution_count": 30,
   "source": [
    "# linearmodel.train()\r\n"
   ],
   "outputs": [],
   "metadata": {}
  },
  {
   "cell_type": "markdown",
   "source": [
    "Create a hyper parameter tuned version of our model"
   ],
   "metadata": {}
  },
  {
   "cell_type": "code",
   "execution_count": 31,
   "source": [
    "# params = {'fit_intercept': [True,False],'normalize':[True,False]}\r\n",
    "\r\n",
    "# linearmodel.hyperParameterTune(5,search_space=params)"
   ],
   "outputs": [],
   "metadata": {}
  },
  {
   "cell_type": "markdown",
   "source": [
    "Create a random forest regressor model"
   ],
   "metadata": {}
  },
  {
   "cell_type": "code",
   "execution_count": 32,
   "source": [
    "# from sklearn.ensemble import RandomForestRegressor\r\n",
    "\r\n",
    "# param_grid = {\r\n",
    "#     'bootstrap': [True],\r\n",
    "#     'max_depth': [80, 90, 100, 110],\r\n",
    "#     'max_features': [2, 3],\r\n",
    "#     'min_samples_leaf': [3, 4, 5],\r\n",
    "#     'min_samples_split': [8, 10, 12],\r\n",
    "#     'n_estimators': [100, 200, 300, 1000]\r\n",
    "# }\r\n",
    "\r\n",
    "# regressionModel=CreateModel(X_train=X_train,X_test=X_test, y_train=y_train,y_test=y_test,data_version=\"v1\",name=\"RandomForestRegressorModel\",model=RandomForestRegressor)  \r\n",
    "\r\n",
    "\r\n"
   ],
   "outputs": [],
   "metadata": {}
  },
  {
   "cell_type": "markdown",
   "source": [
    "Train our baseline model"
   ],
   "metadata": {}
  },
  {
   "cell_type": "code",
   "execution_count": 33,
   "source": [
    "# regressionModel.train()"
   ],
   "outputs": [],
   "metadata": {}
  },
  {
   "cell_type": "markdown",
   "source": [
    "## Pipeline Processing"
   ],
   "metadata": {}
  },
  {
   "cell_type": "markdown",
   "source": [
    "Create a custom imputer to handle null values with max. We want to fill values competition distance, promo2year and promo2months with the maximum because they need to be the farthest and the most recent they can be"
   ],
   "metadata": {}
  },
  {
   "cell_type": "code",
   "execution_count": 34,
   "source": [
    "\r\n",
    "from sklearn.base import BaseEstimator, TransformerMixin\r\n",
    "from sklearn.utils.validation import check_is_fitted\r\n",
    "from sklearn.impute import SimpleImputer\r\n"
   ],
   "outputs": [],
   "metadata": {}
  },
  {
   "cell_type": "code",
   "execution_count": 3,
   "source": [
    "from CustomMaxImputer import CustomMaxImputer"
   ],
   "outputs": [],
   "metadata": {}
  },
  {
   "cell_type": "code",
   "execution_count": 35,
   "source": [
    "# train_cleaned_ready.columns"
   ],
   "outputs": [],
   "metadata": {}
  },
  {
   "cell_type": "markdown",
   "source": [
    "Extract the target and train featuers"
   ],
   "metadata": {}
  },
  {
   "cell_type": "code",
   "execution_count": 36,
   "source": [
    "# train = pd.read_csv('../data/train_store_combined.csv')\r\n",
    "\r\n",
    "\r\n",
    "y = train[['Sales']]\r\n",
    "X = train.drop(['Sales',\"Customers\",\"Store\",\"Date\"], axis=1)"
   ],
   "outputs": [],
   "metadata": {}
  },
  {
   "cell_type": "markdown",
   "source": [
    "Import pipeline and imputer classes"
   ],
   "metadata": {}
  },
  {
   "cell_type": "code",
   "execution_count": 37,
   "source": [
    "\r\n",
    "from sklearn.pipeline import Pipeline\r\n",
    "from sklearn.impute import SimpleImputer\r\n",
    "\r\n",
    "from sklearn.compose import ColumnTransformer"
   ],
   "outputs": [],
   "metadata": {}
  },
  {
   "cell_type": "markdown",
   "source": [
    "Dense transformer for use in creating dense versions of frames for parts that take only dense data"
   ],
   "metadata": {}
  },
  {
   "cell_type": "code",
   "execution_count": 38,
   "source": [
    "class DenseTransformer(TransformerMixin):\r\n",
    "\r\n",
    "    def fit(self, X, y=None, **fit_params):\r\n",
    "        return self\r\n",
    "\r\n",
    "    def transform(self, X, y=None, **fit_params):\r\n",
    "        return X.todense()"
   ],
   "outputs": [],
   "metadata": {}
  },
  {
   "cell_type": "code",
   "execution_count": 39,
   "source": [
    "def optimize_df(dataframe: pd.DataFrame) -> pd.DataFrame:\r\n",
    "    \"\"\"\r\n",
    "       A simple function which optimizes the data types of the dataframe and returns it\r\n",
    "        Parameters\r\n",
    "        ----------\r\n",
    "        dataframe:\r\n",
    "            Type: pd.DataFrame\r\n",
    "\r\n",
    "        Returns\r\n",
    "        -------\r\n",
    "        pd.DataFrame\r\n",
    "    \"\"\"\r\n",
    "    data_types = dataframe.dtypes\r\n",
    "    optimizable = ['float64', 'int64']\r\n",
    "    for col in data_types.index:\r\n",
    "        if(data_types[col] in optimizable):\r\n",
    "            if(data_types[col] == 'float64'):\r\n",
    "                # downcasting a float column\r\n",
    "                dataframe[col] = pd.to_numeric(\r\n",
    "                    dataframe[col], downcast='float')\r\n",
    "            elif(data_types[col] == 'int64'):\r\n",
    "                # downcasting an integer column\r\n",
    "                dataframe[col] = pd.to_numeric(\r\n",
    "                    dataframe[col], downcast='unsigned')\r\n",
    "\r\n",
    "    return dataframe"
   ],
   "outputs": [],
   "metadata": {}
  },
  {
   "cell_type": "code",
   "execution_count": 40,
   "source": [
    "# X=optimize_df(X)"
   ],
   "outputs": [],
   "metadata": {}
  },
  {
   "cell_type": "markdown",
   "source": [
    "Creating our pipeline and spliting the data into train and test sets. We create three input pipelines for numeric and scaled which are imputed with most frequent, max which are imputed with max  and scaled and categorical values which are imputed with most frequent and encoded. "
   ],
   "metadata": {}
  },
  {
   "cell_type": "code",
   "execution_count": 48,
   "source": [
    "numeric_features = ['DayOfWeek', 'Open',\"Promo\",\"SchoolHoliday\",\"Year\",\"CompetitionOpenSinceMonth\",\"CompetitionOpenSinceYear\",\"weekend\",\"MonthState\",\"To\",\"After\",\"Month\",\"Day\",\"Promo2\"]\r\n",
    "numeric_transformer = Pipeline(steps=[\r\n",
    "    ('imputer', SimpleImputer(strategy='most_frequent')),\r\n",
    "    ('scaler', StandardScaler())])\r\n",
    "\r\n",
    "max_features=[\"Promo2SinceWeek\",\"CompetitionDistance\",\"Promo2SinceYear\"]\r\n",
    "max_transformenr=Pipeline(steps=[\r\n",
    "    ('imputer', CustomMaxImputer()),\r\n",
    "    ('scaler', StandardScaler())]\r\n",
    ")\r\n",
    "\r\n",
    "categorical_features = ['StateHoliday', 'PromoInterval', 'Assortment','StoreType']\r\n",
    "\r\n",
    "categorical_transformer =Pipeline(steps=[\r\n",
    "    ('imputer', SimpleImputer(strategy='most_frequent')),\r\n",
    "    ('encoder',OrdinalEncoder())\r\n",
    "    ]) \r\n",
    "\r\n",
    "preprocessor = ColumnTransformer(\r\n",
    "    transformers=[\r\n",
    "        ('num', numeric_transformer, numeric_features),\r\n",
    "        ('max', max_transformenr, max_features),\r\n",
    "        ('cat', categorical_transformer, categorical_features)\r\n",
    "        ])\r\n",
    "\r\n",
    "# Append classifier to preprocessing pipeline.\r\n",
    "# Now we have a full prediction pipeline.\r\n",
    "\r\n",
    "X_train, X_test, y_train, y_test = train_test_split(X, y, test_size=0.2,\r\n",
    "                                                    random_state=0)\r\n"
   ],
   "outputs": [],
   "metadata": {}
  },
  {
   "cell_type": "markdown",
   "source": [
    "Build a baseline linear regression model with our pipeline. The code for processing and modeling is a lot cleaner than the manual versin"
   ],
   "metadata": {}
  },
  {
   "cell_type": "code",
   "execution_count": 84,
   "source": [
    "mlflow.sklearn.autolog()\r\n",
    "\r\n",
    "with mlflow.start_run(run_name=\"Baseline_LinearRegression\"):\r\n",
    "        \r\n",
    "    linearPipeline = Pipeline(steps=[('preprocessor', preprocessor),\r\n",
    "                        ('classifier', LinearRegression())])\r\n",
    "    mod=linearPipeline.fit(X_train, y_train)\r\n",
    "\r\n",
    "    linearPrediction = linearPipeline.predict(X_test)\r\n",
    "    linearError=mean_squared_error(y_test,linearPrediction)\r\n",
    "\r\n",
    "print(\"mean_squared_error of model is \",linearError)\r\n",
    "\r\n",
    "\r\n",
    "mlflow.end_run()\r\n"
   ],
   "outputs": [
    {
     "output_type": "stream",
     "name": "stderr",
     "text": [
      "2021/07/31 18:30:09 WARNING mlflow.utils: Truncated the value of the key `steps`. Truncated value: `[('preprocessor', ColumnTransformer(transformers=[('num',\n",
      "                                 Pipeline(steps=[('imputer',\n",
      "                                                  SimpleImputer(strategy='most_frequent')),\n",
      "                                    ...`\n",
      "2021/07/31 18:30:09 WARNING mlflow.utils: Truncated the value of the key `preprocessor`. Truncated value: `ColumnTransformer(transformers=[('num',\n",
      "                                 Pipeline(steps=[('imputer',\n",
      "                                                  SimpleImputer(strategy='most_frequent')),\n",
      "                                                 ('sca...`\n",
      "2021/07/31 18:30:09 WARNING mlflow.utils: Truncated the value of the key `preprocessor__transformers`. Truncated value: `[('num', Pipeline(steps=[('imputer', SimpleImputer(strategy='most_frequent')),\n",
      "                ('scaler', StandardScaler())]), ['DayOfWeek', 'Open', 'Promo', 'SchoolHoliday', 'Year', 'CompetitionOpenSinceMonth', 'CompetitionOpenSinceYear', 'weeken...`\n"
     ]
    },
    {
     "output_type": "stream",
     "name": "stdout",
     "text": [
      "mean_squared_error of model is  6500671.41290929\n"
     ]
    }
   ],
   "metadata": {}
  },
  {
   "cell_type": "code",
   "execution_count": 49,
   "source": [
    "# import math\r\n",
    "# math.sqrt(error)"
   ],
   "outputs": [],
   "metadata": {}
  },
  {
   "cell_type": "code",
   "execution_count": 50,
   "source": [
    "# clf.score(X_test,y_test)"
   ],
   "outputs": [],
   "metadata": {}
  },
  {
   "cell_type": "code",
   "execution_count": 51,
   "source": [
    "# result_df = X_test.copy()\r\n",
    "# result_df[\"Prediction Sales\"] = pred\r\n",
    "# result_df[\"Actual Sales\"] = y_test\r\n",
    "# result_df[\"Store\"]=test[\"Store\"]\r\n",
    "# result_agg = result_df.groupby(\"Store\").agg({\"Prediction Sales\": \"mean\", \"Actual Sales\":\"mean\"})\r\n",
    "        \r\n",
    "    \r\n",
    "def pred_graph(res_dataframe):\r\n",
    "    \r\n",
    "    fig = plt.figure(figsize=(18, 5))\r\n",
    "    sns.lineplot(x = res_dataframe.index, y = res_dataframe[\"Actual Sales\"], label='Actual')\r\n",
    "    sns.lineplot(x = res_dataframe.index, y = res_dataframe[\"Prediction Sales\"], label='Prediction')\r\n",
    "    plt.xticks(fontsize=14)\r\n",
    "    plt.yticks(fontsize=14)\r\n",
    "    plt.xlabel(xlabel=\"Day\", fontsize=16)\r\n",
    "    plt.ylabel(ylabel=\"Sales\", fontsize=16)\r\n",
    "    plt.show()"
   ],
   "outputs": [],
   "metadata": {}
  },
  {
   "cell_type": "code",
   "execution_count": 52,
   "source": [
    "# pred_graph(result_agg)"
   ],
   "outputs": [],
   "metadata": {}
  },
  {
   "cell_type": "code",
   "execution_count": 53,
   "source": [
    "from sklearn.ensemble import RandomForestRegressor"
   ],
   "outputs": [],
   "metadata": {}
  },
  {
   "cell_type": "markdown",
   "source": [
    "Creating a baseline random forest model "
   ],
   "metadata": {}
  },
  {
   "cell_type": "code",
   "execution_count": 54,
   "source": [
    "\r\n",
    "\r\n",
    "mlflow.sklearn.autolog()\r\n",
    "\r\n",
    "with mlflow.start_run(run_name=\"Baseline_RandomForest\"):\r\n",
    "        \r\n",
    "    clf = Pipeline(steps=[('preprocessor', preprocessor),\r\n",
    "                        ('classifier', RandomForestRegressor(n_estimators=15))])\r\n",
    "    clf.fit(X_train, y_train)\r\n",
    "\r\n",
    "    pred = clf.predict(X_test)\r\n",
    "    error=mean_squared_error(y_test,pred)\r\n",
    "    \r\n",
    "    mlflow.log_metric(\"mean_squared_error\", error)\r\n",
    "\r\n",
    "print(\"mean_squared_error of model is \",error)\r\n"
   ],
   "outputs": [],
   "metadata": {}
  },
  {
   "cell_type": "code",
   "execution_count": 55,
   "source": [
    "# result_df = X_test.copy()\r\n",
    "# result_df[\"Prediction Sales\"] = pred\r\n",
    "# result_df[\"Actual Sales\"] = y_test\r\n",
    "# result_df[\"Store\"]=test[\"Store\"]\r\n",
    "# result_agg = result_df.groupby(\"Day\").agg({\"Prediction Sales\": \"mean\", \"Actual Sales\":\"mean\"})\r\n",
    "\r\n",
    "# pred_graph(result_agg)"
   ],
   "outputs": [],
   "metadata": {}
  },
  {
   "cell_type": "code",
   "execution_count": 56,
   "source": [
    "\r\n",
    "# result_month_agg = result_df.groupby(\"Month\").agg({\"Prediction Sales\": \"mean\", \"Actual Sales\":\"mean\"})\r\n",
    "\r\n",
    "# pred_graph(result_month_agg)"
   ],
   "outputs": [],
   "metadata": {}
  },
  {
   "cell_type": "code",
   "execution_count": 57,
   "source": [
    "\r\n",
    "# from sklearn.metrics import mean_absolute_error\r\n",
    "\r\n",
    "\r\n",
    "# mean_absolute_error(y_test,pred)"
   ],
   "outputs": [],
   "metadata": {}
  },
  {
   "cell_type": "code",
   "execution_count": 58,
   "source": [
    "import pickle"
   ],
   "outputs": [],
   "metadata": {}
  },
  {
   "cell_type": "markdown",
   "source": [
    "Creating a hyper parameter tuned randomforest regressor with our pipeline "
   ],
   "metadata": {}
  },
  {
   "cell_type": "code",
   "execution_count": 60,
   "source": [
    "from sklearn.ensemble import RandomForestRegressor\r\n",
    "\r\n",
    "from sklearn.model_selection import GridSearchCV\r\n",
    "mlflow.sklearn.autolog()\r\n",
    "param_grid = {\r\n",
    "    'classifier__bootstrap': [True],\r\n",
    "    'classifier__max_depth': [5, 6, 7, 15],\r\n",
    "    'classifier__max_features': [2, 3],\r\n",
    "    'classifier__min_samples_leaf': [3, 4, 5],\r\n",
    "    'classifier__min_samples_split': [4, 5, 6],\r\n",
    "    'classifier__n_estimators': [5,10,15,20]\r\n",
    "}\r\n",
    "with mlflow.start_run(run_name=\"Hyperparameter_RandomForest\"):\r\n",
    "        \r\n",
    "    clf = Pipeline(steps=[('preprocessor', preprocessor),\r\n",
    "                        ('classifier', RandomForestRegressor())])\r\n",
    "\r\n",
    "    grid=GridSearchCV(clf,\r\n",
    "                    param_grid=param_grid,\r\n",
    "                    cv=2,\r\n",
    "                    refit=True)\r\n",
    "\r\n",
    "    grid.fit(X_train, y_train)\r\n",
    "\r\n",
    "    pred = grid.predict(X_test)\r\n",
    "    error=mean_squared_error(y_test,pred)\r\n",
    "    \r\n",
    "    mlflow.log_metric(\"mean_squared_error\", error)\r\n",
    "\r\n",
    "print(\"mean_squared_error of model is \",error)\r\n",
    "mlflow.end_run()\r\n",
    "\r\n",
    "\r\n"
   ],
   "outputs": [
    {
     "output_type": "stream",
     "name": "stderr",
     "text": [
      "2021/07/31 16:11:44 WARNING mlflow.utils: Truncated the value of the key `estimator`. Truncated value: `Pipeline(steps=[('preprocessor',\n",
      "                 ColumnTransformer(transformers=[('num',\n",
      "                                                  Pipeline(steps=[('imputer',\n",
      "                                                                   SimpleImpute...`\n",
      "2021/07/31 16:27:25 INFO mlflow.sklearn.utils: Logging the 5 best runs, 67 runs will be omitted.\n",
      "2021/07/31 16:27:25 WARNING mlflow.utils: Truncated the value of the key `steps`. Truncated value: `[('preprocessor', ColumnTransformer(transformers=[('num',\n",
      "                                 Pipeline(steps=[('imputer',\n",
      "                                                  SimpleImputer(strategy='most_frequent')),\n",
      "                                    ...`\n",
      "2021/07/31 16:27:25 WARNING mlflow.utils: Truncated the value of the key `preprocessor`. Truncated value: `ColumnTransformer(transformers=[('num',\n",
      "                                 Pipeline(steps=[('imputer',\n",
      "                                                  SimpleImputer(strategy='most_frequent')),\n",
      "                                                 ('sca...`\n",
      "2021/07/31 16:27:25 WARNING mlflow.utils: Truncated the value of the key `preprocessor__transformers`. Truncated value: `[('num', Pipeline(steps=[('imputer', SimpleImputer(strategy='most_frequent')),\n",
      "                ('scaler', StandardScaler())]), ['DayOfWeek', 'Open', 'Promo', 'SchoolHoliday', 'Year', 'CompetitionOpenSinceMonth', 'CompetitionOpenSinceYear', 'weeken...`\n",
      "2021/07/31 16:27:26 WARNING mlflow.utils: Truncated the value of the key `steps`. Truncated value: `[('preprocessor', ColumnTransformer(transformers=[('num',\n",
      "                                 Pipeline(steps=[('imputer',\n",
      "                                                  SimpleImputer(strategy='most_frequent')),\n",
      "                                    ...`\n",
      "2021/07/31 16:27:26 WARNING mlflow.utils: Truncated the value of the key `preprocessor`. Truncated value: `ColumnTransformer(transformers=[('num',\n",
      "                                 Pipeline(steps=[('imputer',\n",
      "                                                  SimpleImputer(strategy='most_frequent')),\n",
      "                                                 ('sca...`\n",
      "2021/07/31 16:27:26 WARNING mlflow.utils: Truncated the value of the key `preprocessor__transformers`. Truncated value: `[('num', Pipeline(steps=[('imputer', SimpleImputer(strategy='most_frequent')),\n",
      "                ('scaler', StandardScaler())]), ['DayOfWeek', 'Open', 'Promo', 'SchoolHoliday', 'Year', 'CompetitionOpenSinceMonth', 'CompetitionOpenSinceYear', 'weeken...`\n",
      "2021/07/31 16:27:26 WARNING mlflow.utils: Truncated the value of the key `steps`. Truncated value: `[('preprocessor', ColumnTransformer(transformers=[('num',\n",
      "                                 Pipeline(steps=[('imputer',\n",
      "                                                  SimpleImputer(strategy='most_frequent')),\n",
      "                                    ...`\n",
      "2021/07/31 16:27:26 WARNING mlflow.utils: Truncated the value of the key `preprocessor`. Truncated value: `ColumnTransformer(transformers=[('num',\n",
      "                                 Pipeline(steps=[('imputer',\n",
      "                                                  SimpleImputer(strategy='most_frequent')),\n",
      "                                                 ('sca...`\n",
      "2021/07/31 16:27:26 WARNING mlflow.utils: Truncated the value of the key `preprocessor__transformers`. Truncated value: `[('num', Pipeline(steps=[('imputer', SimpleImputer(strategy='most_frequent')),\n",
      "                ('scaler', StandardScaler())]), ['DayOfWeek', 'Open', 'Promo', 'SchoolHoliday', 'Year', 'CompetitionOpenSinceMonth', 'CompetitionOpenSinceYear', 'weeken...`\n",
      "2021/07/31 16:27:26 WARNING mlflow.utils: Truncated the value of the key `steps`. Truncated value: `[('preprocessor', ColumnTransformer(transformers=[('num',\n",
      "                                 Pipeline(steps=[('imputer',\n",
      "                                                  SimpleImputer(strategy='most_frequent')),\n",
      "                                    ...`\n",
      "2021/07/31 16:27:26 WARNING mlflow.utils: Truncated the value of the key `preprocessor`. Truncated value: `ColumnTransformer(transformers=[('num',\n",
      "                                 Pipeline(steps=[('imputer',\n",
      "                                                  SimpleImputer(strategy='most_frequent')),\n",
      "                                                 ('sca...`\n",
      "2021/07/31 16:27:26 WARNING mlflow.utils: Truncated the value of the key `preprocessor__transformers`. Truncated value: `[('num', Pipeline(steps=[('imputer', SimpleImputer(strategy='most_frequent')),\n",
      "                ('scaler', StandardScaler())]), ['DayOfWeek', 'Open', 'Promo', 'SchoolHoliday', 'Year', 'CompetitionOpenSinceMonth', 'CompetitionOpenSinceYear', 'weeken...`\n",
      "2021/07/31 16:27:26 WARNING mlflow.utils: Truncated the value of the key `steps`. Truncated value: `[('preprocessor', ColumnTransformer(transformers=[('num',\n",
      "                                 Pipeline(steps=[('imputer',\n",
      "                                                  SimpleImputer(strategy='most_frequent')),\n",
      "                                    ...`\n",
      "2021/07/31 16:27:26 WARNING mlflow.utils: Truncated the value of the key `preprocessor`. Truncated value: `ColumnTransformer(transformers=[('num',\n",
      "                                 Pipeline(steps=[('imputer',\n",
      "                                                  SimpleImputer(strategy='most_frequent')),\n",
      "                                                 ('sca...`\n",
      "2021/07/31 16:27:26 WARNING mlflow.utils: Truncated the value of the key `preprocessor__transformers`. Truncated value: `[('num', Pipeline(steps=[('imputer', SimpleImputer(strategy='most_frequent')),\n",
      "                ('scaler', StandardScaler())]), ['DayOfWeek', 'Open', 'Promo', 'SchoolHoliday', 'Year', 'CompetitionOpenSinceMonth', 'CompetitionOpenSinceYear', 'weeken...`\n"
     ]
    },
    {
     "output_type": "stream",
     "name": "stdout",
     "text": [
      "mean_squared_error of model is  3839651.623869199\n"
     ]
    }
   ],
   "metadata": {}
  },
  {
   "cell_type": "code",
   "execution_count": null,
   "source": [
    "# grid.named_steps['preprocessor'].get_feature_names()"
   ],
   "outputs": [],
   "metadata": {}
  },
  {
   "cell_type": "markdown",
   "source": [
    "pickling our models"
   ],
   "metadata": {}
  },
  {
   "cell_type": "code",
   "execution_count": 61,
   "source": [
    "\r\n",
    "pickle.dump(grid.best_estimator_, open(\"../models/model.pkl\", 'wb'))"
   ],
   "outputs": [],
   "metadata": {}
  },
  {
   "cell_type": "code",
   "execution_count": 92,
   "source": [
    "\r\n",
    "pickle.dump(grid.best_estimator_, open(\"../models/model2.pkl\", 'wb'),protocol=4)"
   ],
   "outputs": [],
   "metadata": {}
  },
  {
   "cell_type": "markdown",
   "source": [
    "Feature importances of our features"
   ],
   "metadata": {}
  },
  {
   "cell_type": "code",
   "execution_count": 66,
   "source": [
    "\r\n",
    "\r\n",
    "\r\n",
    "feature_importances = pd.DataFrame((grid.best_estimator_.named_steps['classifier'].feature_importances_).transpose() , index=X_train.columns.tolist(), columns=['importance'])\r\n",
    "feature_importances.sort_values('importance', ascending=False)\r\n",
    "\r\n",
    "feature_importances"
   ],
   "outputs": [
    {
     "output_type": "execute_result",
     "data": {
      "text/plain": [
       "                           importance\n",
       "DayOfWeek                    0.179223\n",
       "Open                         0.290633\n",
       "Promo                        0.123837\n",
       "StateHoliday                 0.001823\n",
       "SchoolHoliday                0.004544\n",
       "Year                         0.019832\n",
       "Month                        0.018754\n",
       "Day                          0.115542\n",
       "StoreType                    0.002943\n",
       "Assortment                   0.019053\n",
       "CompetitionDistance          0.014507\n",
       "CompetitionOpenSinceMonth    0.021580\n",
       "CompetitionOpenSinceYear     0.017011\n",
       "Promo2                       0.004730\n",
       "Promo2SinceWeek              0.017131\n",
       "Promo2SinceYear              0.052422\n",
       "PromoInterval                0.014474\n",
       "weekend                      0.041758\n",
       "MonthState                   0.005319\n",
       "To                           0.017040\n",
       "After                        0.017845"
      ],
      "text/html": [
       "<div>\n",
       "<style scoped>\n",
       "    .dataframe tbody tr th:only-of-type {\n",
       "        vertical-align: middle;\n",
       "    }\n",
       "\n",
       "    .dataframe tbody tr th {\n",
       "        vertical-align: top;\n",
       "    }\n",
       "\n",
       "    .dataframe thead th {\n",
       "        text-align: right;\n",
       "    }\n",
       "</style>\n",
       "<table border=\"1\" class=\"dataframe\">\n",
       "  <thead>\n",
       "    <tr style=\"text-align: right;\">\n",
       "      <th></th>\n",
       "      <th>importance</th>\n",
       "    </tr>\n",
       "  </thead>\n",
       "  <tbody>\n",
       "    <tr>\n",
       "      <th>DayOfWeek</th>\n",
       "      <td>0.179223</td>\n",
       "    </tr>\n",
       "    <tr>\n",
       "      <th>Open</th>\n",
       "      <td>0.290633</td>\n",
       "    </tr>\n",
       "    <tr>\n",
       "      <th>Promo</th>\n",
       "      <td>0.123837</td>\n",
       "    </tr>\n",
       "    <tr>\n",
       "      <th>StateHoliday</th>\n",
       "      <td>0.001823</td>\n",
       "    </tr>\n",
       "    <tr>\n",
       "      <th>SchoolHoliday</th>\n",
       "      <td>0.004544</td>\n",
       "    </tr>\n",
       "    <tr>\n",
       "      <th>Year</th>\n",
       "      <td>0.019832</td>\n",
       "    </tr>\n",
       "    <tr>\n",
       "      <th>Month</th>\n",
       "      <td>0.018754</td>\n",
       "    </tr>\n",
       "    <tr>\n",
       "      <th>Day</th>\n",
       "      <td>0.115542</td>\n",
       "    </tr>\n",
       "    <tr>\n",
       "      <th>StoreType</th>\n",
       "      <td>0.002943</td>\n",
       "    </tr>\n",
       "    <tr>\n",
       "      <th>Assortment</th>\n",
       "      <td>0.019053</td>\n",
       "    </tr>\n",
       "    <tr>\n",
       "      <th>CompetitionDistance</th>\n",
       "      <td>0.014507</td>\n",
       "    </tr>\n",
       "    <tr>\n",
       "      <th>CompetitionOpenSinceMonth</th>\n",
       "      <td>0.021580</td>\n",
       "    </tr>\n",
       "    <tr>\n",
       "      <th>CompetitionOpenSinceYear</th>\n",
       "      <td>0.017011</td>\n",
       "    </tr>\n",
       "    <tr>\n",
       "      <th>Promo2</th>\n",
       "      <td>0.004730</td>\n",
       "    </tr>\n",
       "    <tr>\n",
       "      <th>Promo2SinceWeek</th>\n",
       "      <td>0.017131</td>\n",
       "    </tr>\n",
       "    <tr>\n",
       "      <th>Promo2SinceYear</th>\n",
       "      <td>0.052422</td>\n",
       "    </tr>\n",
       "    <tr>\n",
       "      <th>PromoInterval</th>\n",
       "      <td>0.014474</td>\n",
       "    </tr>\n",
       "    <tr>\n",
       "      <th>weekend</th>\n",
       "      <td>0.041758</td>\n",
       "    </tr>\n",
       "    <tr>\n",
       "      <th>MonthState</th>\n",
       "      <td>0.005319</td>\n",
       "    </tr>\n",
       "    <tr>\n",
       "      <th>To</th>\n",
       "      <td>0.017040</td>\n",
       "    </tr>\n",
       "    <tr>\n",
       "      <th>After</th>\n",
       "      <td>0.017845</td>\n",
       "    </tr>\n",
       "  </tbody>\n",
       "</table>\n",
       "</div>"
      ]
     },
     "metadata": {},
     "execution_count": 66
    }
   ],
   "metadata": {}
  },
  {
   "cell_type": "markdown",
   "source": [
    "Visualization of the importances"
   ],
   "metadata": {}
  },
  {
   "cell_type": "code",
   "execution_count": 89,
   "source": [
    "plt.figure(figsize = (8,6))\r\n",
    "feature_importances.sort_values('importance', ascending = False, inplace= True)\r\n",
    "sns.barplot(y = feature_importances.index, x = feature_importances.importance)\r\n",
    "plt.title('Feature Importances')\r\n",
    "plt.xticks(rotation = 45)"
   ],
   "outputs": [
    {
     "output_type": "execute_result",
     "data": {
      "text/plain": [
       "(array([0.  , 0.05, 0.1 , 0.15, 0.2 , 0.25, 0.3 , 0.35]),\n",
       " [Text(0, 0, ''),\n",
       "  Text(0, 0, ''),\n",
       "  Text(0, 0, ''),\n",
       "  Text(0, 0, ''),\n",
       "  Text(0, 0, ''),\n",
       "  Text(0, 0, ''),\n",
       "  Text(0, 0, ''),\n",
       "  Text(0, 0, '')])"
      ]
     },
     "metadata": {},
     "execution_count": 89
    },
    {
     "output_type": "display_data",
     "data": {
      "text/plain": [
       "<Figure size 576x432 with 1 Axes>"
      ],
      "image/png": "[encoded data removed]"
     },
     "metadata": {
      "needs_background": "light"
     }
    }
   ],
   "metadata": {}
  },
  {
   "cell_type": "markdown",
   "source": [
    "Load model from mlflow of a previous run with one hot encoded categorical featuers"
   ],
   "metadata": {}
  },
  {
   "cell_type": "code",
   "execution_count": 90,
   "source": [
    "\r\n",
    "logged_model = 'runs:/147aa687a9354f3fb5ed2fa715ec1639/model'\r\n",
    "\r\n",
    "# Load model as a PyFuncModel.\r\n",
    "loaded_model = mlflow.sklearn.load_model(logged_model)\r\n",
    "\r\n",
    "# Predict on a Pandas DataFrame.\r\n",
    "loadedPrediction=loaded_model.predict(X_test)\r\n",
    "\r\n",
    "error=mean_squared_error(y_test,loadedPrediction)\r\n",
    "\r\n",
    "\r\n",
    "print(\"mean_squared_error of model is \",error)"
   ],
   "outputs": [
    {
     "output_type": "stream",
     "name": "stdout",
     "text": [
      "mean_squared_error of model is  705529.630655003\n"
     ]
    }
   ],
   "metadata": {}
  },
  {
   "cell_type": "markdown",
   "source": [
    "We can see the effect that various categorical values have on our model"
   ],
   "metadata": {}
  },
  {
   "cell_type": "code",
   "execution_count": null,
   "source": [
    "ohe = (loaded_model.named_steps['preprocessor'].named_transformers_['cat'].named_steps['encoder'])\r\n",
    "feature_names = ohe.get_feature_names(input_features=categorical_features)\r\n",
    "feature_names = np.r_[feature_names, numeric_features]\r\n",
    "feature_names = np.r_[feature_names, max_features]\r\n",
    "\r\n",
    "tree_feature_importances = (\r\n",
    "    loaded_model.named_steps['classifier'].feature_importances_)\r\n",
    "sorted_idx = tree_feature_importances.argsort()\r\n",
    "\r\n",
    "y_ticks = np.arange(0, len(feature_names))\r\n",
    "fig, ax = plt.subplots(figsize=(15,10))\r\n",
    "ax.barh(y_ticks, tree_feature_importances[sorted_idx])\r\n",
    "ax.set_yticks(y_ticks)\r\n",
    "ax.set_yticklabels(feature_names[sorted_idx])\r\n",
    "ax.set_title(\"Random Forest Feature Importances (MDI)\")\r\n",
    "fig.tight_layout()\r\n",
    "plt.show()"
   ],
   "outputs": [
    {
     "output_type": "display_data",
     "data": {
      "text/plain": [
       "<Figure size 1080x720 with 1 Axes>"
      ],
      "image/png": "[encoded data removed]"
     },
     "metadata": {
      "needs_background": "light"
     }
    }
   ],
   "metadata": {}
  },
  {
   "cell_type": "code",
   "execution_count": null,
   "source": [
    "logged_model = 'runs:/b6234db1853e4988b0437abb054dfc8b/model'\r\n",
    "\r\n",
    "# Load model as a PyFuncModel.\r\n",
    "loaded_model = mlflow.sklearn.load_model(logged_model)\r\n",
    "\r\n",
    "\r\n",
    "\r\n",
    "feature_importances = pd.DataFrame((loaded_model.feature_importances_).transpose() , index=X_train.columns.tolist(), columns=['importance'])\r\n",
    "feature_importances.sort_values('importance', ascending=False)"
   ],
   "outputs": [],
   "metadata": {}
  }
 ],
 "metadata": {
  "orig_nbformat": 4,
  "language_info": {
   "name": "python",
   "version": "3.8.8",
   "mimetype": "text/x-python",
   "codemirror_mode": {
    "name": "ipython",
    "version": 3
   },
   "pygments_lexer": "ipython3",
   "nbconvert_exporter": "python",
   "file_extension": ".py"
  },
  "kernelspec": {
   "name": "python3",
   "display_name": "Python 3.8.8 64-bit ('base': conda)"
  },
  "interpreter": {
   "hash": "3ebe1e15dab481e38dbc50cacd21ed8ec6b22a54b0f3cb3b993bb569cf9c8bed"
  }
 },
 "nbformat": 4,
 "nbformat_minor": 2
}