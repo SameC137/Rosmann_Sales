{
 "cells": [
  {
   "cell_type": "code",
   "execution_count": 1,
   "source": [
    "import pandas as pd\r\n",
    "import numpy as np\r\n",
    "\r\n",
    "from sklearn.preprocessing import LabelEncoder\r\n",
    "from sklearn.preprocessing import StandardScaler"
   ],
   "outputs": [],
   "metadata": {}
  },
  {
   "cell_type": "code",
   "execution_count": 2,
   "source": [
    "train = pd.read_csv('../data/train_store_combined.csv')\r\n",
    "test = pd.read_csv('../data/test_store_combined.csv')"
   ],
   "outputs": [],
   "metadata": {}
  },
  {
   "cell_type": "code",
   "execution_count": 3,
   "source": [
    "def isWeekend(x):\r\n",
    "    if x<6:\r\n",
    "        return 0\r\n",
    "    else: \r\n",
    "        return 1\r\n",
    "train[\"weekend\"]= train[\"DayOfWeek\"].apply(isWeekend )"
   ],
   "outputs": [],
   "metadata": {}
  },
  {
   "cell_type": "code",
   "execution_count": 4,
   "source": [
    "def startMidEndMonth(x):\r\n",
    "    if x<10:\r\n",
    "        return 0\r\n",
    "    elif x<20:\r\n",
    "        return 1\r\n",
    "    else:\r\n",
    "        return 2"
   ],
   "outputs": [],
   "metadata": {}
  },
  {
   "cell_type": "code",
   "execution_count": 5,
   "source": [
    "train[\"MonthState\"]=train[\"Day\"].apply(startMidEndMonth)"
   ],
   "outputs": [],
   "metadata": {}
  },
  {
   "cell_type": "code",
   "execution_count": 6,
   "source": [
    "import bisect\r\n",
    "train[\"Date\"]=pd.to_datetime(train[\"Date\"])\r\n",
    "dates=np.array(train[train[\"StateHoliday\"]!=\"0\"][\"Date\"].unique())\r\n",
    "dates=np.sort(dates)\r\n",
    "a=train[\"Date\"].iloc[119]\r\n",
    "\r\n",
    "index = bisect.bisect(dates, a)\r\n",
    "print(index,dates[index-1],dates[index],a)"
   ],
   "outputs": [
    {
     "output_type": "stream",
     "name": "stdout",
     "text": [
      "32 2015-04-03T00:00:00.000000000 2015-04-06T00:00:00.000000000 2015-04-03 00:00:00\n"
     ]
    }
   ],
   "metadata": {}
  },
  {
   "cell_type": "code",
   "execution_count": 7,
   "source": [
    "def datToAndAfterHoliday(df,Column,holidays):\r\n",
    "    to=[]\r\n",
    "    after=[]\r\n",
    "    for a in df[Column]:\r\n",
    "        index=bisect.bisect(holidays,a)\r\n",
    "        if len(holidays)==index:\r\n",
    "            to.append(pd.Timedelta(0, unit='d') )\r\n",
    "            after.append(a - holidays[index-1])\r\n",
    "        else:\r\n",
    "            after.append(holidays[index] - a)\r\n",
    "            to.append(a -holidays[index-1])\r\n",
    "    return to,after"
   ],
   "outputs": [],
   "metadata": {}
  },
  {
   "cell_type": "code",
   "execution_count": 8,
   "source": [
    "train[\"To\"],train[\"After\"]=datToAndAfterHoliday(train,\"Date\",dates)"
   ],
   "outputs": [],
   "metadata": {}
  },
  {
   "cell_type": "code",
   "execution_count": 9,
   "source": [
    "train['Promo2SinceWeek'] = train['Promo2SinceWeek'].fillna(train['Promo2SinceWeek'].max())\r\n",
    "train['Promo2SinceYear'] = train['Promo2SinceYear'].fillna(train['Promo2SinceYear'].max())\r\n",
    "train['PromoInterval'] = train['PromoInterval'].fillna(train['PromoInterval'].mode().iloc[0])\r\n",
    "\r\n",
    "train['CompetitionDistance'] = train['CompetitionDistance'].fillna(train['CompetitionDistance'].max())\r\n",
    "train['CompetitionOpenSinceMonth'] = train['CompetitionOpenSinceMonth'].fillna(train['CompetitionOpenSinceMonth'].mode().iloc[0])\r\n",
    "train['CompetitionOpenSinceYear'] = train['CompetitionOpenSinceYear'].fillna(train['CompetitionOpenSinceYear'].mode().iloc[0])"
   ],
   "outputs": [],
   "metadata": {}
  },
  {
   "cell_type": "code",
   "execution_count": 10,
   "source": [
    "# train.to_csv(\"../data/test_store_combined.csv\",index=False)"
   ],
   "outputs": [],
   "metadata": {}
  },
  {
   "cell_type": "code",
   "execution_count": null,
   "source": [],
   "outputs": [],
   "metadata": {}
  },
  {
   "cell_type": "code",
   "execution_count": 11,
   "source": [
    "train.info()"
   ],
   "outputs": [
    {
     "output_type": "stream",
     "name": "stdout",
     "text": [
      "<class 'pandas.core.frame.DataFrame'>\n",
      "RangeIndex: 1017209 entries, 0 to 1017208\n",
      "Data columns (total 25 columns):\n",
      " #   Column                     Non-Null Count    Dtype          \n",
      "---  ------                     --------------    -----          \n",
      " 0   Store                      1017209 non-null  int64          \n",
      " 1   DayOfWeek                  1017209 non-null  int64          \n",
      " 2   Date                       1017209 non-null  datetime64[ns] \n",
      " 3   Sales                      1017209 non-null  int64          \n",
      " 4   Customers                  1017209 non-null  int64          \n",
      " 5   Open                       1017209 non-null  int64          \n",
      " 6   Promo                      1017209 non-null  int64          \n",
      " 7   StateHoliday               1017209 non-null  object         \n",
      " 8   SchoolHoliday              1017209 non-null  int64          \n",
      " 9   Year                       1017209 non-null  int64          \n",
      " 10  Month                      1017209 non-null  int64          \n",
      " 11  Day                        1017209 non-null  int64          \n",
      " 12  StoreType                  1017209 non-null  object         \n",
      " 13  Assortment                 1017209 non-null  object         \n",
      " 14  CompetitionDistance        1017209 non-null  float64        \n",
      " 15  CompetitionOpenSinceMonth  1017209 non-null  float64        \n",
      " 16  CompetitionOpenSinceYear   1017209 non-null  float64        \n",
      " 17  Promo2                     1017209 non-null  int64          \n",
      " 18  Promo2SinceWeek            1017209 non-null  float64        \n",
      " 19  Promo2SinceYear            1017209 non-null  float64        \n",
      " 20  PromoInterval              1017209 non-null  object         \n",
      " 21  weekend                    1017209 non-null  int64          \n",
      " 22  MonthState                 1017209 non-null  int64          \n",
      " 23  To                         1017209 non-null  timedelta64[ns]\n",
      " 24  After                      1017209 non-null  timedelta64[ns]\n",
      "dtypes: datetime64[ns](1), float64(5), int64(13), object(4), timedelta64[ns](2)\n",
      "memory usage: 194.0+ MB\n"
     ]
    }
   ],
   "metadata": {}
  },
  {
   "cell_type": "code",
   "execution_count": 12,
   "source": [
    "train_cleaned_ready=train.copy()"
   ],
   "outputs": [],
   "metadata": {}
  },
  {
   "cell_type": "code",
   "execution_count": 13,
   "source": [
    "train_cleaned_ready[\"To\"]=pd.to_numeric(train_cleaned_ready['To'].dt.days, downcast='integer')"
   ],
   "outputs": [],
   "metadata": {}
  },
  {
   "cell_type": "code",
   "execution_count": 14,
   "source": [
    "train_cleaned_ready[\"After\"]=pd.to_numeric(train_cleaned_ready['After'].dt.days, downcast='integer')"
   ],
   "outputs": [],
   "metadata": {}
  },
  {
   "cell_type": "code",
   "execution_count": 15,
   "source": [
    "train_cleaned_ready.drop([\"Store\",\"Date\",\"Customers\"],axis=1,inplace=True)"
   ],
   "outputs": [],
   "metadata": {}
  },
  {
   "cell_type": "code",
   "execution_count": 16,
   "source": [
    "def encode_scale_features(df,columns):\r\n",
    "    lb=LabelEncoder()\r\n",
    "    norm = StandardScaler()\r\n",
    "    for i in columns:\r\n",
    "        df[i]=lb.fit_transform(df[i])   \r\n",
    "    norm_fit = norm.fit_transform(df)\r\n",
    "    out=pd.DataFrame(norm_fit,columns=df.columns)\r\n",
    "    return out"
   ],
   "outputs": [],
   "metadata": {}
  },
  {
   "cell_type": "code",
   "execution_count": 17,
   "source": [
    "features=encode_scale_features(train_cleaned_ready,[\"StoreType\",\"StateHoliday\",\"Assortment\",\"PromoInterval\"])"
   ],
   "outputs": [],
   "metadata": {}
  },
  {
   "cell_type": "code",
   "execution_count": 18,
   "source": [
    "y=features[\"Sales\"]"
   ],
   "outputs": [],
   "metadata": {}
  },
  {
   "cell_type": "code",
   "execution_count": 19,
   "source": [
    "features=features.drop(\"Sales\",axis=1,inplace=False)"
   ],
   "outputs": [],
   "metadata": {}
  },
  {
   "cell_type": "code",
   "execution_count": 20,
   "source": [
    "\r\n",
    "\r\n",
    "import sys, os\r\n",
    "\r\n",
    "sys.path.append(os.path.abspath(os.path.join('../scripts')))\r\n",
    "from Create_modelss_modified import CreateModel\r\n",
    "\r\n"
   ],
   "outputs": [],
   "metadata": {}
  },
  {
   "cell_type": "code",
   "execution_count": 21,
   "source": [
    "from sklearn.linear_model import LinearRegression\r\n",
    "from sklearn.linear_model import LogisticRegression\r\n",
    "from sklearn.model_selection import train_test_split"
   ],
   "outputs": [],
   "metadata": {}
  },
  {
   "cell_type": "code",
   "execution_count": null,
   "source": [],
   "outputs": [],
   "metadata": {}
  },
  {
   "cell_type": "code",
   "execution_count": 22,
   "source": [
    "import mlflow\r\n",
    "import mlflow.sklearn\r\n",
    "from sklearn.metrics import mean_squared_error"
   ],
   "outputs": [],
   "metadata": {}
  },
  {
   "cell_type": "code",
   "execution_count": 31,
   "source": [
    "X_train, X_test, y_train, y_test = train_test_split(\r\n",
    "   features, y, test_size=0.4, random_state=1)"
   ],
   "outputs": [],
   "metadata": {}
  },
  {
   "cell_type": "code",
   "execution_count": 24,
   "source": [
    "\r\n",
    "mlflow.sklearn.autolog()\r\n",
    "\r\n",
    "with mlflow.start_run(run_name=\"Baseline_LinearRegression\"):\r\n",
    "    model=LinearRegression()\r\n",
    "    model.fit(X_train, y_train)\r\n",
    "\r\n",
    "    pred = model.predict(X_test)\r\n",
    "    \r\n",
    "    error=mean_squared_error(y_test,pred)\r\n",
    "    print(error)"
   ],
   "outputs": [
    {
     "output_type": "stream",
     "name": "stdout",
     "text": [
      "0.44153666592591206\n"
     ]
    }
   ],
   "metadata": {}
  },
  {
   "cell_type": "code",
   "execution_count": 25,
   "source": [
    "linearmodel=CreateModel(X_train=X_train,X_test=X_test, y_train=y_train,y_test=y_test,data_version=\"v1\",name=\"LinearRegressionModel\",model=LinearRegression)"
   ],
   "outputs": [],
   "metadata": {}
  },
  {
   "cell_type": "code",
   "execution_count": 26,
   "source": [
    "linearmodel.train()\r\n"
   ],
   "outputs": [
    {
     "output_type": "stream",
     "name": "stdout",
     "text": [
      "mean_squared_error of model is  0.44153666592591206\n"
     ]
    },
    {
     "output_type": "execute_result",
     "data": {
      "text/plain": [
       "LinearRegression()"
      ]
     },
     "metadata": {},
     "execution_count": 26
    }
   ],
   "metadata": {}
  },
  {
   "cell_type": "code",
   "execution_count": 27,
   "source": [
    "params = {'fit_intercept': [True,False],'normalize':[True,False]}\r\n",
    "\r\n",
    "linearmodel.hyperParameterTune(5,search_space=params)"
   ],
   "outputs": [
    {
     "output_type": "stream",
     "name": "stderr",
     "text": [
      "2021/07/28 18:56:14 INFO mlflow.sklearn.utils: Logging the 5 best runs, no runs will be omitted.\n"
     ]
    },
    {
     "output_type": "stream",
     "name": "stdout",
     "text": [
      "mean_squared_error of model is  0.4415366619007456\n"
     ]
    },
    {
     "output_type": "execute_result",
     "data": {
      "text/plain": [
       "LinearRegression(fit_intercept=False, normalize=True)"
      ]
     },
     "metadata": {},
     "execution_count": 27
    }
   ],
   "metadata": {}
  },
  {
   "cell_type": "code",
   "execution_count": 32,
   "source": [
    "from sklearn.ensemble import RandomForestRegressor\r\n",
    "\r\n",
    "param_grid = {\r\n",
    "    'bootstrap': [True],\r\n",
    "    'max_depth': [80, 90, 100, 110],\r\n",
    "    'max_features': [2, 3],\r\n",
    "    'min_samples_leaf': [3, 4, 5],\r\n",
    "    'min_samples_split': [8, 10, 12],\r\n",
    "    'n_estimators': [100, 200, 300, 1000]\r\n",
    "}\r\n",
    "\r\n",
    "regressionModel=CreateModel(X_train=X_train,X_test=X_test, y_train=y_train,y_test=y_test,data_version=\"v1\",name=\"RandomForestRegressorModel\",model=RandomForestRegressor)  \r\n",
    "\r\n",
    "\r\n"
   ],
   "outputs": [],
   "metadata": {}
  },
  {
   "cell_type": "code",
   "execution_count": 33,
   "source": [
    "regressionModel.train()"
   ],
   "outputs": [],
   "metadata": {}
  }
 ],
 "metadata": {
  "orig_nbformat": 4,
  "language_info": {
   "name": "python",
   "version": "3.8.8",
   "mimetype": "text/x-python",
   "codemirror_mode": {
    "name": "ipython",
    "version": 3
   },
   "pygments_lexer": "ipython3",
   "nbconvert_exporter": "python",
   "file_extension": ".py"
  },
  "kernelspec": {
   "name": "python3",
   "display_name": "Python 3.8.8 64-bit ('base': conda)"
  },
  "interpreter": {
   "hash": "3ebe1e15dab481e38dbc50cacd21ed8ec6b22a54b0f3cb3b993bb569cf9c8bed"
  }
 },
 "nbformat": 4,
 "nbformat_minor": 2
}