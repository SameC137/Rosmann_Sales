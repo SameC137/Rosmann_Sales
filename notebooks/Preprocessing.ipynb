{
 "cells": [
  {
   "cell_type": "code",
   "execution_count": 23,
   "source": [
    "import pandas as pd\r\n",
    "import numpy as np"
   ],
   "outputs": [],
   "metadata": {}
  },
  {
   "cell_type": "code",
   "execution_count": 24,
   "source": [
    "train = pd.read_csv('../data/train_store_combined.csv')\r\n",
    "test = pd.read_csv('../data/test_store_combined.csv')"
   ],
   "outputs": [],
   "metadata": {}
  },
  {
   "cell_type": "code",
   "execution_count": 25,
   "source": [
    "def isWeekend(x):\r\n",
    "    if x<6:\r\n",
    "        return 0\r\n",
    "    else: \r\n",
    "        return 1\r\n",
    "train[\"weekend\"]= train[\"DayOfWeek\"].apply(isWeekend )"
   ],
   "outputs": [],
   "metadata": {}
  },
  {
   "cell_type": "code",
   "execution_count": 26,
   "source": [
    "def startMidEndMonth(x):\r\n",
    "    if x<10:\r\n",
    "        return 0\r\n",
    "    elif x<20:\r\n",
    "        return 1\r\n",
    "    else:\r\n",
    "        return 2"
   ],
   "outputs": [],
   "metadata": {}
  },
  {
   "cell_type": "code",
   "execution_count": 27,
   "source": [
    "train[\"MonthState\"]=train[\"Day\"].apply(startMidEndMonth)"
   ],
   "outputs": [],
   "metadata": {}
  },
  {
   "cell_type": "code",
   "execution_count": 28,
   "source": [
    "import bisect\r\n",
    "train[\"Date\"]=pd.to_datetime(train[\"Date\"])\r\n",
    "dates=np.array(train[train[\"StateHoliday\"]!=\"0\"][\"Date\"].unique())\r\n",
    "dates=np.sort(dates)\r\n",
    "a=train[\"Date\"].iloc[119]\r\n",
    "\r\n",
    "index = bisect.bisect(dates, a)\r\n",
    "print(index,dates[index-1],dates[index],a)"
   ],
   "outputs": [
    {
     "output_type": "stream",
     "name": "stdout",
     "text": [
      "32 2015-04-03T00:00:00.000000000 2015-04-06T00:00:00.000000000 2015-04-03 00:00:00\n"
     ]
    }
   ],
   "metadata": {}
  },
  {
   "cell_type": "code",
   "execution_count": 29,
   "source": [
    "def datToAndAfterHoliday(df,Column,holidays):\r\n",
    "    to=[]\r\n",
    "    after=[]\r\n",
    "    for a in df[Column]:\r\n",
    "        index=bisect.bisect(holidays,a)\r\n",
    "        if len(holidays)==index:\r\n",
    "            to.append(pd.Timedelta(0, unit='d') )\r\n",
    "            after.append(a - holidays[index-1])\r\n",
    "        else:\r\n",
    "            to.append(holidays[index] - a)\r\n",
    "            after.append(a -holidays[index-1])\r\n",
    "    return to,after"
   ],
   "outputs": [],
   "metadata": {}
  },
  {
   "cell_type": "code",
   "execution_count": 30,
   "source": [
    "train[\"To\"],train[\"After\"]=datToAndAfterHoliday(train,\"Date\",dates)"
   ],
   "outputs": [],
   "metadata": {}
  },
  {
   "cell_type": "code",
   "execution_count": 31,
   "source": [
    "train['Promo2SinceWeek'] = train['Promo2SinceWeek'].fillna(0)\r\n",
    "train['Promo2SinceYear'] = train['Promo2SinceYear'].fillna(0)\r\n",
    "train['PromoInterval'] = train['PromoInterval'].fillna(train['PromoInterval'].mode().iloc[0])\r\n",
    "\r\n",
    "train['CompetitionDistance'] = train['CompetitionDistance'].fillna(train['CompetitionDistance'].max())\r\n",
    "train['CompetitionOpenSinceMonth'] = train['CompetitionOpenSinceMonth'].fillna(train['CompetitionOpenSinceMonth'].mode().iloc[0])\r\n",
    "train['CompetitionOpenSinceYear'] = train['CompetitionOpenSinceYear'].fillna(train['CompetitionOpenSinceYear'].mode().iloc[0])"
   ],
   "outputs": [],
   "metadata": {}
  },
  {
   "cell_type": "code",
   "execution_count": null,
   "source": [],
   "outputs": [],
   "metadata": {}
  }
 ],
 "metadata": {
  "orig_nbformat": 4,
  "language_info": {
   "name": "python",
   "version": "3.8.8",
   "mimetype": "text/x-python",
   "codemirror_mode": {
    "name": "ipython",
    "version": 3
   },
   "pygments_lexer": "ipython3",
   "nbconvert_exporter": "python",
   "file_extension": ".py"
  },
  "kernelspec": {
   "name": "python3",
   "display_name": "Python 3.8.8 64-bit ('base': conda)"
  },
  "interpreter": {
   "hash": "3ebe1e15dab481e38dbc50cacd21ed8ec6b22a54b0f3cb3b993bb569cf9c8bed"
  }
 },
 "nbformat": 4,
 "nbformat_minor": 2
}